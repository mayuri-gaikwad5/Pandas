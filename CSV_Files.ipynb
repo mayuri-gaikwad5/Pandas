{
 "cells": [
  {
   "cell_type": "markdown",
   "id": "da11543c-7057-476b-8525-cf1137b68993",
   "metadata": {},
   "source": [
    "# Write CSV Files in Python Pandas"
   ]
  },
  {
   "cell_type": "markdown",
   "id": "00bcf8ec-5980-4f5b-aae7-8f620f5c8282",
   "metadata": {},
   "source": [
    "## Difference betweem CSV and XLS file format"
   ]
  },
  {
   "cell_type": "markdown",
   "id": "dec7b8e0-cdd6-407b-9760-eb5f08c0b098",
   "metadata": {},
   "source": [
    "- CSV format is a plain text format in which values are seprated by commas \n",
    "- XLS file format is an Excel Sheets binary file format which holds information about \n",
    "all the worksheets in a file, including both content and formatting."
   ]
  },
  {
   "cell_type": "code",
   "execution_count": 5,
   "id": "7f56f625-4da6-4649-b55c-5de4eacf7206",
   "metadata": {},
   "outputs": [],
   "source": [
    "import pandas as pd"
   ]
  },
  {
   "cell_type": "code",
   "execution_count": 19,
   "id": "fd47070e-6c1f-4b93-be55-c44df565647c",
   "metadata": {},
   "outputs": [
    {
     "name": "stdout",
     "output_type": "stream",
     "text": [
      "   a  m  g\n",
      "0  1  1  1\n",
      "1  2  2  2\n",
      "2  3  3  3\n",
      "3  4  4  4\n",
      "4  5  5  5\n",
      "5  6  6  6\n"
     ]
    }
   ],
   "source": [
    "dic = {'a':[1,2,3,4,5,6],'m':[1,2,3,4,5,6],'g':[1,2,3,4,5,6]}\n",
    "d = pd.DataFrame(dic)\n",
    "print(d)\n",
    "d.to_csv('new_file.csv',index=False,header=['column_1','column_2','column_3'])"
   ]
  },
  {
   "cell_type": "markdown",
   "id": "46aff1af-ad5c-444a-bd5c-ad4fdc9e8870",
   "metadata": {},
   "source": [
    "## Read CSV files"
   ]
  },
  {
   "cell_type": "markdown",
   "id": "3af2ca3c-ab96-4511-90c5-a503578e03b1",
   "metadata": {},
   "source": [
    "- A simple way to store big data sets is to use CSV files (comma seprated files)\n",
    "- CSV files contains plain text and is a well known format that can be read by everyone including Pandas"
   ]
  },
  {
   "cell_type": "code",
   "execution_count": 131,
   "id": "d1ffbd13-e4ac-4f0a-9f07-e127abceba1d",
   "metadata": {},
   "outputs": [
    {
     "data": {
      "text/html": [
       "<div>\n",
       "<style scoped>\n",
       "    .dataframe tbody tr th:only-of-type {\n",
       "        vertical-align: middle;\n",
       "    }\n",
       "\n",
       "    .dataframe tbody tr th {\n",
       "        vertical-align: top;\n",
       "    }\n",
       "\n",
       "    .dataframe thead th {\n",
       "        text-align: right;\n",
       "    }\n",
       "</style>\n",
       "<table border=\"1\" class=\"dataframe\">\n",
       "  <thead>\n",
       "    <tr style=\"text-align: right;\">\n",
       "      <th></th>\n",
       "      <th>source</th>\n",
       "      <th>target</th>\n",
       "      <th>value</th>\n",
       "    </tr>\n",
       "  </thead>\n",
       "  <tbody>\n",
       "    <tr>\n",
       "      <th>0</th>\n",
       "      <td>Agricultural 'waste'</td>\n",
       "      <td>Bio-conversion</td>\n",
       "      <td>124.729</td>\n",
       "    </tr>\n",
       "    <tr>\n",
       "      <th>1</th>\n",
       "      <td>Bio-conversion</td>\n",
       "      <td>Liquid</td>\n",
       "      <td>0.597</td>\n",
       "    </tr>\n",
       "    <tr>\n",
       "      <th>2</th>\n",
       "      <td>Bio-conversion</td>\n",
       "      <td>Losses</td>\n",
       "      <td>26.862</td>\n",
       "    </tr>\n",
       "    <tr>\n",
       "      <th>3</th>\n",
       "      <td>Bio-conversion</td>\n",
       "      <td>Solid</td>\n",
       "      <td>280.322</td>\n",
       "    </tr>\n",
       "    <tr>\n",
       "      <th>4</th>\n",
       "      <td>Bio-conversion</td>\n",
       "      <td>Gas</td>\n",
       "      <td>81.144</td>\n",
       "    </tr>\n",
       "    <tr>\n",
       "      <th>...</th>\n",
       "      <td>...</td>\n",
       "      <td>...</td>\n",
       "      <td>...</td>\n",
       "    </tr>\n",
       "    <tr>\n",
       "      <th>63</th>\n",
       "      <td>Thermal generation</td>\n",
       "      <td>District heating</td>\n",
       "      <td>79.329</td>\n",
       "    </tr>\n",
       "    <tr>\n",
       "      <th>64</th>\n",
       "      <td>Tidal</td>\n",
       "      <td>Electricity grid</td>\n",
       "      <td>9.452</td>\n",
       "    </tr>\n",
       "    <tr>\n",
       "      <th>65</th>\n",
       "      <td>UK land based bioenergy</td>\n",
       "      <td>Bio-conversion</td>\n",
       "      <td>182.010</td>\n",
       "    </tr>\n",
       "    <tr>\n",
       "      <th>66</th>\n",
       "      <td>Wave</td>\n",
       "      <td>Electricity grid</td>\n",
       "      <td>19.013</td>\n",
       "    </tr>\n",
       "    <tr>\n",
       "      <th>67</th>\n",
       "      <td>Wind</td>\n",
       "      <td>Electricity grid</td>\n",
       "      <td>289.366</td>\n",
       "    </tr>\n",
       "  </tbody>\n",
       "</table>\n",
       "<p>68 rows × 3 columns</p>\n",
       "</div>"
      ],
      "text/plain": [
       "                     source            target    value\n",
       "0      Agricultural 'waste'    Bio-conversion  124.729\n",
       "1            Bio-conversion            Liquid    0.597\n",
       "2            Bio-conversion            Losses   26.862\n",
       "3            Bio-conversion             Solid  280.322\n",
       "4            Bio-conversion               Gas   81.144\n",
       "..                      ...               ...      ...\n",
       "63       Thermal generation  District heating   79.329\n",
       "64                    Tidal  Electricity grid    9.452\n",
       "65  UK land based bioenergy    Bio-conversion  182.010\n",
       "66                     Wave  Electricity grid   19.013\n",
       "67                     Wind  Electricity grid  289.366\n",
       "\n",
       "[68 rows x 3 columns]"
      ]
     },
     "execution_count": 131,
     "metadata": {},
     "output_type": "execute_result"
    }
   ],
   "source": [
    "csv_1 = pd.read_csv(\"C:\\\\Users\\\\2309m\\\\Desktop\\\\MY WORK\\\\Github\\\\Pandas\\\\energy.csv\") # path of your csv file\n",
    "csv_1"
   ]
  },
  {
   "cell_type": "markdown",
   "id": "22ebb8c0-d532-4398-9d48-935f26fc9154",
   "metadata": {},
   "source": [
    "## Extract single row or n rows"
   ]
  },
  {
   "cell_type": "code",
   "execution_count": 54,
   "id": "843f9866-d346-4fa5-81e4-c55bf8a8fec5",
   "metadata": {},
   "outputs": [
    {
     "name": "stdout",
     "output_type": "stream",
     "text": [
      "                 source          target    value\n",
      "0  Agricultural 'waste'  Bio-conversion  124.729\n",
      "1        Bio-conversion          Liquid    0.597\n",
      "2        Bio-conversion          Losses   26.862\n",
      "type <class 'pandas.core.frame.DataFrame'>\n"
     ]
    }
   ],
   "source": [
    "csv_2 = pd.read_csv(\"C:\\\\Users\\\\2309m\\\\Desktop\\\\MY WORK\\\\Github\\\\Pandas\\\\energy.csv\",nrows=3)\n",
    "print(csv_2)\n",
    "print('type',type(csv_2))"
   ]
  },
  {
   "cell_type": "markdown",
   "id": "6cbb5482-dc7b-491c-b1d2-46b431ba02ee",
   "metadata": {},
   "source": [
    "## Extract single column or n columns"
   ]
  },
  {
   "cell_type": "code",
   "execution_count": 58,
   "id": "347c720f-9146-4472-af54-1276f76e5eaf",
   "metadata": {},
   "outputs": [
    {
     "name": "stdout",
     "output_type": "stream",
     "text": [
      "              target    value\n",
      "0     Bio-conversion  124.729\n",
      "1             Liquid    0.597\n",
      "2             Losses   26.862\n",
      "3              Solid  280.322\n",
      "4                Gas   81.144\n",
      "..               ...      ...\n",
      "63  District heating   79.329\n",
      "64  Electricity grid    9.452\n",
      "65    Bio-conversion  182.010\n",
      "66  Electricity grid   19.013\n",
      "67  Electricity grid  289.366\n",
      "\n",
      "[68 rows x 2 columns]\n"
     ]
    }
   ],
   "source": [
    "csv_3 = pd.read_csv(\"C:\\\\Users\\\\2309m\\\\Desktop\\\\MY WORK\\\\Github\\\\Pandas\\\\energy.csv\",usecols=['target','value'])\n",
    "print(csv_3)\n"
   ]
  },
  {
   "cell_type": "markdown",
   "id": "9b8e4444-83f0-4a60-b7bc-c334cc696564",
   "metadata": {},
   "source": [
    "## skip the rows"
   ]
  },
  {
   "cell_type": "code",
   "execution_count": 69,
   "id": "490c205d-a857-4493-9415-be1ba5a355b9",
   "metadata": {},
   "outputs": [
    {
     "name": "stdout",
     "output_type": "stream",
     "text": [
      "                     source            target    value\n",
      "0            Bio-conversion            Losses   26.862\n",
      "1            Bio-conversion             Solid  280.322\n",
      "2            Bio-conversion               Gas   81.144\n",
      "3           Biofuel imports            Liquid   35.000\n",
      "4           Biomass imports             Solid   35.000\n",
      "..                      ...               ...      ...\n",
      "61       Thermal generation  District heating   79.329\n",
      "62                    Tidal  Electricity grid    9.452\n",
      "63  UK land based bioenergy    Bio-conversion  182.010\n",
      "64                     Wave  Electricity grid   19.013\n",
      "65                     Wind  Electricity grid  289.366\n",
      "\n",
      "[66 rows x 3 columns]\n"
     ]
    }
   ],
   "source": [
    "csv_4 = pd.read_csv(\"C:\\\\Users\\\\2309m\\\\Desktop\\\\MY WORK\\\\Github\\\\Pandas\\\\energy.csv\",skiprows=[1,2])\n",
    "print(csv_4)\n"
   ]
  },
  {
   "cell_type": "markdown",
   "id": "b94fd788-30ed-441e-af3f-9713962fb68c",
   "metadata": {},
   "source": [
    "## how to change the index"
   ]
  },
  {
   "cell_type": "code",
   "execution_count": 71,
   "id": "8cea6ac2-f2ea-42ed-9cf8-dc698e4ae146",
   "metadata": {},
   "outputs": [
    {
     "name": "stdout",
     "output_type": "stream",
     "text": [
      "                          source            target\n",
      "value                                             \n",
      "124.729     Agricultural 'waste'    Bio-conversion\n",
      "0.597             Bio-conversion            Liquid\n",
      "26.862            Bio-conversion            Losses\n",
      "280.322           Bio-conversion             Solid\n",
      "81.144            Bio-conversion               Gas\n",
      "...                          ...               ...\n",
      "79.329        Thermal generation  District heating\n",
      "9.452                      Tidal  Electricity grid\n",
      "182.010  UK land based bioenergy    Bio-conversion\n",
      "19.013                      Wave  Electricity grid\n",
      "289.366                     Wind  Electricity grid\n",
      "\n",
      "[68 rows x 2 columns]\n"
     ]
    }
   ],
   "source": [
    "csv_5 = pd.read_csv(\"C:\\\\Users\\\\2309m\\\\Desktop\\\\MY WORK\\\\Github\\\\Pandas\\\\energy.csv\",index_col='value')\n",
    "print(csv_5)\n"
   ]
  },
  {
   "cell_type": "markdown",
   "id": "3b3bbc42-7304-4933-881d-b11db2d41d76",
   "metadata": {},
   "source": [
    "## header parameter .... convert any single row into the header"
   ]
  },
  {
   "cell_type": "code",
   "execution_count": 78,
   "id": "3368dd17-6408-4c50-ab60-a051c56db6a4",
   "metadata": {},
   "outputs": [
    {
     "name": "stdout",
     "output_type": "stream",
     "text": [
      "       Agricultural 'waste'    Bio-conversion  124.729\n",
      "0            Bio-conversion            Liquid    0.597\n",
      "1            Bio-conversion            Losses   26.862\n",
      "2            Bio-conversion             Solid  280.322\n",
      "3            Bio-conversion               Gas   81.144\n",
      "4           Biofuel imports            Liquid   35.000\n",
      "..                      ...               ...      ...\n",
      "62       Thermal generation  District heating   79.329\n",
      "63                    Tidal  Electricity grid    9.452\n",
      "64  UK land based bioenergy    Bio-conversion  182.010\n",
      "65                     Wave  Electricity grid   19.013\n",
      "66                     Wind  Electricity grid  289.366\n",
      "\n",
      "[67 rows x 3 columns]\n"
     ]
    }
   ],
   "source": [
    "csv_6 = pd.read_csv(\"C:\\\\Users\\\\2309m\\\\Desktop\\\\MY WORK\\\\Github\\\\Pandas\\\\energy.csv\",header=1)\n",
    "print(csv_6)"
   ]
  },
  {
   "cell_type": "markdown",
   "id": "d9ac83e1-093d-40de-a9b0-4473a602a675",
   "metadata": {},
   "source": [
    "## name parameter ..... use to change the heading"
   ]
  },
  {
   "cell_type": "code",
   "execution_count": 86,
   "id": "c57d94ff-fb7a-400d-9f09-6640a5523ee8",
   "metadata": {},
   "outputs": [
    {
     "name": "stdout",
     "output_type": "stream",
     "text": [
      "                   resource              type   number\n",
      "0                    source            target    value\n",
      "1      Agricultural 'waste'    Bio-conversion  124.729\n",
      "2            Bio-conversion            Liquid    0.597\n",
      "3            Bio-conversion            Losses   26.862\n",
      "4            Bio-conversion             Solid  280.322\n",
      "..                      ...               ...      ...\n",
      "64       Thermal generation  District heating   79.329\n",
      "65                    Tidal  Electricity grid    9.452\n",
      "66  UK land based bioenergy    Bio-conversion   182.01\n",
      "67                     Wave  Electricity grid   19.013\n",
      "68                     Wind  Electricity grid  289.366\n",
      "\n",
      "[69 rows x 3 columns]\n"
     ]
    }
   ],
   "source": [
    "csv_6 = pd.read_csv(\"C:\\\\Users\\\\2309m\\\\Desktop\\\\MY WORK\\\\Github\\\\Pandas\\\\energy.csv\",names=['resource','type','number'])\n",
    "print(csv_6)"
   ]
  },
  {
   "cell_type": "markdown",
   "id": "917134cf-12f1-44bf-a4af-10570e6cec99",
   "metadata": {},
   "source": [
    "## how to convert the data type"
   ]
  },
  {
   "cell_type": "code",
   "execution_count": 129,
   "id": "212b023e-501a-4d2e-ac55-40649f8ef501",
   "metadata": {},
   "outputs": [
    {
     "name": "stdout",
     "output_type": "stream",
     "text": [
      "                     source            target    value\n",
      "0      Agricultural 'waste'    Bio-conversion  124.729\n",
      "1            Bio-conversion            Liquid    0.597\n",
      "2            Bio-conversion            Losses   26.862\n",
      "3            Bio-conversion             Solid  280.322\n",
      "4            Bio-conversion               Gas   81.144\n",
      "..                      ...               ...      ...\n",
      "63       Thermal generation  District heating   79.329\n",
      "64                    Tidal  Electricity grid    9.452\n",
      "65  UK land based bioenergy    Bio-conversion  182.010\n",
      "66                     Wave  Electricity grid   19.013\n",
      "67                     Wind  Electricity grid  289.366\n",
      "\n",
      "[68 rows x 3 columns]\n"
     ]
    }
   ],
   "source": [
    "csv_7 = pd.read_csv(\"C:\\\\Users\\\\2309m\\\\Desktop\\\\MY WORK\\\\Github\\\\Pandas\\\\energy.csv\",dtype={'value':'float'})\n",
    "print(csv_7)"
   ]
  },
  {
   "cell_type": "code",
   "execution_count": null,
   "id": "cddd0341-0503-440e-98e4-1f46f79142de",
   "metadata": {},
   "outputs": [],
   "source": []
  }
 ],
 "metadata": {
  "kernelspec": {
   "display_name": "Python 3 (ipykernel)",
   "language": "python",
   "name": "python3"
  },
  "language_info": {
   "codemirror_mode": {
    "name": "ipython",
    "version": 3
   },
   "file_extension": ".py",
   "mimetype": "text/x-python",
   "name": "python",
   "nbconvert_exporter": "python",
   "pygments_lexer": "ipython3",
   "version": "3.11.7"
  }
 },
 "nbformat": 4,
 "nbformat_minor": 5
}
