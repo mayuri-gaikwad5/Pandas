{
 "cells": [
  {
   "cell_type": "markdown",
   "id": "2e98d61a-f891-434a-859e-af31ca06961e",
   "metadata": {},
   "source": [
    "# Data Analysis "
   ]
  },
  {
   "cell_type": "markdown",
   "id": "7c6e7458-a023-4b1a-beb5-1f51fbc82fe7",
   "metadata": {},
   "source": [
    "Data analysis is a process of inspecting , cleansing, transforming and modelling data with the goal of discovering useful information , informing conclusions and supporting decision making."
   ]
  },
  {
   "cell_type": "markdown",
   "id": "eb87ae09-bab1-42d2-961a-5d6c346e17de",
   "metadata": {},
   "source": [
    "### Python libraries for Data Analysis "
   ]
  },
  {
   "cell_type": "markdown",
   "id": "71a56fcc-52dd-4a30-a507-61ba1e9a9ede",
   "metadata": {},
   "source": [
    "- what is Pandas?\n",
    "- Pandas vs Excel\n",
    "- Pandas Data Structures\n",
    "- Installation and Import Pandas\n",
    "- Implementation of Pandas\n",
    "  "
   ]
  },
  {
   "cell_type": "markdown",
   "id": "0ed92435-3358-4f0f-86af-bb858e594112",
   "metadata": {},
   "source": [
    "## What will we study "
   ]
  },
  {
   "cell_type": "markdown",
   "id": "30566f1e-3302-4d4d-9ebb-cff726606b0e",
   "metadata": {},
   "source": [
    "- NumPy \n",
    "- statsmodel\n",
    "- matplotlib\n",
    "- sciPy\n",
    "- Scikit learn\n",
    "- Pandas\n",
    "- seaborn"
   ]
  },
  {
   "cell_type": "markdown",
   "id": "01a75904-51d2-48e2-95c3-d1f2dafa4628",
   "metadata": {},
   "source": [
    "# What is Pandas"
   ]
  },
  {
   "cell_type": "markdown",
   "id": "84eacbf9-247d-4b85-97fc-a2bf4bc515b7",
   "metadata": {},
   "source": [
    "- The name \"pandas\" has a reference to both \"panel data\" , and \"python data analysis\" and was created by wes mickinney in 2008\n",
    "- pandas is a python library used for working with data sets\n",
    "- IT has function for analyzing , cleaning , exploring and manipulating data.\n",
    "- read and write data structures and different formats:- CSV , JSON, ZIP"
   ]
  },
  {
   "cell_type": "markdown",
   "id": "80185d27-ddee-4bb1-94ae-1394a622365a",
   "metadata": {},
   "source": [
    "# Pandas Data Structures"
   ]
  },
  {
   "cell_type": "markdown",
   "id": "81219a18-1bfe-40cd-8797-b4572a4f3e33",
   "metadata": {},
   "source": [
    "### Three Data Structures\n",
    "- Series: one-Dimensional labeled arrays pd.series(Data)\n",
    "- Data Frames: Two-Dimensional data structure with columns, much like a table.\n",
    "- Panel: A pannel is a 3D container of data."
   ]
  },
  {
   "cell_type": "markdown",
   "id": "01e0af49-2d9b-44d0-b125-9cf181efbd0c",
   "metadata": {},
   "source": [
    "# Installlation and Import Pandas "
   ]
  },
  {
   "cell_type": "code",
   "execution_count": 13,
   "id": "dc9157f5-c623-428c-a9c4-07fa34bb2958",
   "metadata": {
    "scrolled": true
   },
   "outputs": [
    {
     "name": "stdout",
     "output_type": "stream",
     "text": [
      "Requirement already satisfied: pandas in c:\\users\\2309m\\anaconda3\\lib\\site-packages (2.2.2)\n",
      "Requirement already satisfied: numpy>=1.23.2 in c:\\users\\2309m\\anaconda3\\lib\\site-packages (from pandas) (1.23.5)\n",
      "Requirement already satisfied: python-dateutil>=2.8.2 in c:\\users\\2309m\\anaconda3\\lib\\site-packages (from pandas) (2.9.0.post0)\n",
      "Requirement already satisfied: pytz>=2020.1 in c:\\users\\2309m\\anaconda3\\lib\\site-packages (from pandas) (2024.1)\n",
      "Requirement already satisfied: tzdata>=2022.7 in c:\\users\\2309m\\anaconda3\\lib\\site-packages (from pandas) (2023.3)\n",
      "Requirement already satisfied: six>=1.5 in c:\\users\\2309m\\anaconda3\\lib\\site-packages (from python-dateutil>=2.8.2->pandas) (1.16.0)\n",
      "Note: you may need to restart the kernel to use updated packages.\n"
     ]
    }
   ],
   "source": [
    "pip install pandas"
   ]
  },
  {
   "cell_type": "markdown",
   "id": "19460de8-0c31-4730-9163-3a0f3f25f925",
   "metadata": {},
   "source": [
    "# Imprtance of Pandas in Python"
   ]
  },
  {
   "cell_type": "markdown",
   "id": "03a3576e-328b-44af-8d06-b3a1ddb15b08",
   "metadata": {},
   "source": [
    "- Pandas allow us to analyse big data and make conclusion based on statistical theories.\n",
    "- Pandas can clean messy data sets, and make them readable and relevant\n",
    "- Easy handling of missing data(represented as NaN) in floating as well as non-floating point data\n",
    "- size mutablility : columns can be inserted and deleted from DataFrame and higher dimensional objects.\n",
    "- Data set merging and joining. Flexible reshaping and pivoting of data sets Provides time series functionality"
   ]
  },
  {
   "cell_type": "markdown",
   "id": "375d6e94-9a91-4fc7-9c46-e02503cf0956",
   "metadata": {},
   "source": [
    "# Data Structures in Python "
   ]
  },
  {
   "cell_type": "markdown",
   "id": "2192fe3e-49df-46c9-8d4e-184b00fb100f",
   "metadata": {},
   "source": [
    "## The Pandas provide two data structures for processing the data.\n",
    "### series & DataFrame and Panel"
   ]
  },
  {
   "cell_type": "markdown",
   "id": "57086691-5aa0-4c6a-bd13-678be9abfebf",
   "metadata": {},
   "source": [
    "# series \n",
    " series:- It is defined as a one-dimensional array that is capable of storing various data types."
   ]
  },
  {
   "cell_type": "code",
   "execution_count": 35,
   "id": "80cdd827-36b5-4de4-bfc8-9e7ff222aa62",
   "metadata": {},
   "outputs": [
    {
     "name": "stdout",
     "output_type": "stream",
     "text": [
      "0    1\n",
      "1    2\n",
      "2    3\n",
      "3    4\n",
      "4    5\n",
      "5    6\n",
      "dtype: int64\n",
      "Type:-  <class 'pandas.core.series.Series'>\n",
      "\n",
      "a    1\n",
      "s    2\n",
      "d    3\n",
      "f    4\n",
      "m    5\n",
      "g    6\n",
      "dtype: int64\n",
      "\n",
      "a    1.0\n",
      "s    2.0\n",
      "d    3.0\n",
      "f    4.0\n",
      "m    5.0\n",
      "g    6.0\n",
      "Name: Python, dtype: float64\n"
     ]
    }
   ],
   "source": [
    "import pandas as pd \n",
    "x=[1,2,3,4,5,6]\n",
    "var = pd.Series(x)\n",
    "print(var)\n",
    "print('Type:- ',type(var))\n",
    "print()\n",
    "#how to change index?\n",
    "var1 = pd.Series(x,index=['a','s','d','f','m','g'])\n",
    "print(var1)\n",
    "print()\n",
    "# how to change data type \n",
    "var2 = pd.Series(x,index=['a','s','d','f','m','g'],dtype='float',name='Python')\n",
    "print(var2)"
   ]
  },
  {
   "cell_type": "code",
   "execution_count": 41,
   "id": "21acd4e1-9552-4898-9044-d69f8180ce3f",
   "metadata": {},
   "outputs": [
    {
     "data": {
      "text/plain": [
       "name         [python, c, c++, java]\n",
       "popuarity          [12, 13, 14, 15]\n",
       "rank                   [1, 4, 3, 2]\n",
       "dtype: object"
      ]
     },
     "execution_count": 41,
     "metadata": {},
     "output_type": "execute_result"
    }
   ],
   "source": [
    "dic = {'name':['python','c','c++','java'] ,'popuarity':[12,13,14,15],'rank':[1,4,3,2] }\n",
    "var1 = pd.Series(dic)\n",
    "var1"
   ]
  },
  {
   "cell_type": "code",
   "execution_count": 45,
   "id": "ed731ae5-a7f7-4184-bbfd-2bee263ea85f",
   "metadata": {},
   "outputs": [
    {
     "name": "stdout",
     "output_type": "stream",
     "text": [
      "1    12\n",
      "2    12\n",
      "3    12\n",
      "4    12\n",
      "5    12\n",
      "6    12\n",
      "7    12\n",
      "dtype: int64\n",
      "<class 'pandas.core.series.Series'>\n"
     ]
    }
   ],
   "source": [
    "s= pd.Series(12,index=[1,2,3,4,5,6,7])\n",
    "print(s)\n",
    "print(type(s))"
   ]
  },
  {
   "cell_type": "code",
   "execution_count": 47,
   "id": "32324564-5f7e-4be9-8432-79b5606d1c41",
   "metadata": {},
   "outputs": [
    {
     "name": "stdout",
     "output_type": "stream",
     "text": [
      "1    24.0\n",
      "2    24.0\n",
      "3    24.0\n",
      "4    24.0\n",
      "5     NaN\n",
      "6     NaN\n",
      "7     NaN\n",
      "dtype: float64\n"
     ]
    }
   ],
   "source": [
    "s1= pd.Series(12,index=[1,2,3,4,5,6,7])\n",
    "s2= pd.Series(12,index=[1,2,3,4])\n",
    "print(s1+s2)"
   ]
  },
  {
   "cell_type": "markdown",
   "id": "7a979684-4349-479a-a59b-3c1ff2440f89",
   "metadata": {},
   "source": [
    "# Data Frame"
   ]
  },
  {
   "cell_type": "code",
   "execution_count": 54,
   "id": "687450e7-1780-4d3c-96dd-8a4aa6ffcf7e",
   "metadata": {},
   "outputs": [
    {
     "name": "stdout",
     "output_type": "stream",
     "text": [
      "   0\n",
      "0  1\n",
      "1  2\n",
      "2  3\n",
      "3  4\n",
      "4  5\n",
      "5  6\n",
      "Type:-  <class 'pandas.core.frame.DataFrame'>\n"
     ]
    }
   ],
   "source": [
    "l = [1,2,3,4,5,6]\n",
    "var = pd.DataFrame(l)\n",
    "print(var)\n",
    "print('Type:- ', type(var))"
   ]
  },
  {
   "cell_type": "code",
   "execution_count": 78,
   "id": "bbec5536-030e-4c14-a7d2-33e32ad0207c",
   "metadata": {},
   "outputs": [
    {
     "name": "stdout",
     "output_type": "stream",
     "text": [
      "   a  s  d  1\n",
      "0  1  1  1  1\n",
      "1  2  2  2  2\n",
      "2  3  3  3  3\n",
      "3  4  4  4  4\n",
      "4  5  5  5  5\n",
      "4\n",
      "\n",
      "   a  1\n",
      "a  1  1\n",
      "s  2  2\n",
      "d  3  3\n",
      "f  4  4\n",
      "g  5  5\n",
      "Type:-  <class 'pandas.core.frame.DataFrame'>\n"
     ]
    }
   ],
   "source": [
    "d={'a':[1,2,3,4,5],'s':[1,2,3,4,5],'d':[1,2,3,4,5],1:[1,2,3,4,5]} # length should be the same\n",
    "var1=pd.DataFrame(d) \n",
    "var2=pd.DataFrame(d,columns=['a',1],index=['a','s','d','f','g']) \n",
    "print(var1)\n",
    "print(var1['a'][3]) # data present at 3 index\n",
    "print()\n",
    "print(var2)\n",
    "print('Type:- ', type(var1))"
   ]
  },
  {
   "cell_type": "code",
   "execution_count": 84,
   "id": "19279035-f1d0-4999-88c6-55a4ff30e291",
   "metadata": {},
   "outputs": [
    {
     "name": "stdout",
     "output_type": "stream",
     "text": [
      "    0   1   2   3   4\n",
      "0   1   2   3   4   5\n",
      "1  11  12  13  14  15\n",
      "Type:-  <class 'pandas.core.frame.DataFrame'>\n"
     ]
    }
   ],
   "source": [
    "list_1 = [[1,2,3,4,5],[11,12,13,14,15]]\n",
    "var3=pd.DataFrame(list_1) \n",
    "print(var3)\n",
    "print('Type:- ', type(var3))"
   ]
  },
  {
   "cell_type": "code",
   "execution_count": 86,
   "id": "be02277c-ac27-4b99-897c-5b8002778f9c",
   "metadata": {},
   "outputs": [
    {
     "name": "stdout",
     "output_type": "stream",
     "text": [
      "   s  a\n",
      "0  1  1\n",
      "1  2  2\n",
      "2  3  3\n",
      "3  4  4\n",
      "Type:-  <class 'pandas.core.frame.DataFrame'>\n"
     ]
    }
   ],
   "source": [
    "sr = {'s':pd.Series([1,2,3,4]),'a':pd.Series([1,2,3,4])}\n",
    "var4=pd.DataFrame(sr) \n",
    "print(var4)\n",
    "print('Type:- ', type(var4))"
   ]
  }
 ],
 "metadata": {
  "kernelspec": {
   "display_name": "Python 3 (ipykernel)",
   "language": "python",
   "name": "python3"
  },
  "language_info": {
   "codemirror_mode": {
    "name": "ipython",
    "version": 3
   },
   "file_extension": ".py",
   "mimetype": "text/x-python",
   "name": "python",
   "nbconvert_exporter": "python",
   "pygments_lexer": "ipython3",
   "version": "3.11.7"
  }
 },
 "nbformat": 4,
 "nbformat_minor": 5
}
